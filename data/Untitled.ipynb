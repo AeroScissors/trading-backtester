{
 "cells": [
  {
   "cell_type": "code",
   "execution_count": 10,
   "id": "5ebe75d8-498e-4eec-9be3-2c68542d7ca4",
   "metadata": {},
   "outputs": [
    {
     "name": "stdout",
     "output_type": "stream",
     "text": [
      "['.ipynb_checkpoints', 'reliance_candles.csv.csv', 'Untitled.ipynb']\n"
     ]
    }
   ],
   "source": [
    "import os\n",
    "print(os.listdir(\"C:/Users/Ignee/OneDrive/Desktop/trading-backtester/data\"))\n"
   ]
  },
  {
   "cell_type": "code",
   "execution_count": 12,
   "id": "51c1add6-2c88-49c0-89db-8277c5e8cee6",
   "metadata": {},
   "outputs": [
    {
     "name": "stdout",
     "output_type": "stream",
     "text": [
      "               date    open    high     low   close  volume\n",
      "0  03-07-2017 09:15  687.98  687.98  679.61  680.35   15211\n",
      "1  03-07-2017 09:16  680.33  681.86  680.18  681.27   32646\n",
      "2  03-07-2017 09:17  681.07  681.84  680.77  681.69    6590\n",
      "3  03-07-2017 09:18  681.69  681.89  681.04  681.04    8443\n",
      "4  03-07-2017 09:19  681.04  683.10  680.92  682.90    4251\n"
     ]
    }
   ],
   "source": [
    "df = pd.read_csv('reliance_candles.csv.csv')\n",
    "print(df.head())\n"
   ]
  },
  {
   "cell_type": "code",
   "execution_count": 13,
   "id": "9fb86ab9-3da3-4504-bfa4-82eea84d2b4e",
   "metadata": {},
   "outputs": [
    {
     "name": "stdout",
     "output_type": "stream",
     "text": [
      "                    open    high     low   close  volume\n",
      "date                                                    \n",
      "03-07-2017 09:15  687.98  687.98  679.61  680.35   15211\n",
      "03-07-2017 09:16  680.33  681.86  680.18  681.27   32646\n",
      "03-07-2017 09:17  681.07  681.84  680.77  681.69    6590\n",
      "03-07-2017 09:18  681.69  681.89  681.04  681.04    8443\n",
      "03-07-2017 09:19  681.04  683.10  680.92  682.90    4251\n",
      "Index(['03-07-2017 09:15', '03-07-2017 09:16', '03-07-2017 09:17',\n",
      "       '03-07-2017 09:18', '03-07-2017 09:19', '03-07-2017 09:20',\n",
      "       '03-07-2017 09:21', '03-07-2017 09:22', '03-07-2017 09:23',\n",
      "       '03-07-2017 09:24',\n",
      "       ...\n",
      "       '12-01-2024 15:20', '12-01-2024 15:21', '12-01-2024 15:22',\n",
      "       '12-01-2024 15:23', '12-01-2024 15:24', '12-01-2024 15:25',\n",
      "       '12-01-2024 15:26', '12-01-2024 15:27', '12-01-2024 15:28',\n",
      "       '12-01-2024 15:29'],\n",
      "      dtype='object', name='date', length=604670)\n"
     ]
    }
   ],
   "source": [
    "df = pd.read_csv('reliance_candles.csv.csv', parse_dates=['date'], index_col='date')\n",
    "print(df.head())\n",
    "print(df.index)\n"
   ]
  },
  {
   "cell_type": "code",
   "execution_count": null,
   "id": "b5d9a995-4849-4ad5-b884-550c1cd3c407",
   "metadata": {},
   "outputs": [],
   "source": []
  }
 ],
 "metadata": {
  "kernelspec": {
   "display_name": "Python 3 (ipykernel)",
   "language": "python",
   "name": "python3"
  },
  "language_info": {
   "codemirror_mode": {
    "name": "ipython",
    "version": 3
   },
   "file_extension": ".py",
   "mimetype": "text/x-python",
   "name": "python",
   "nbconvert_exporter": "python",
   "pygments_lexer": "ipython3",
   "version": "3.10.0"
  }
 },
 "nbformat": 4,
 "nbformat_minor": 5
}
